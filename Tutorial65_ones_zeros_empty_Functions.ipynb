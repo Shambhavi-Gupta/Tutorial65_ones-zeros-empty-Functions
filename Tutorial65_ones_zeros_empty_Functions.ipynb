{
  "nbformat": 4,
  "nbformat_minor": 0,
  "metadata": {
    "colab": {
      "name": "Tutorial65_ones-zeros-empty-Functions.ipynb",
      "provenance": [],
      "authorship_tag": "ABX9TyPMhebku4OfhnyWz2mYywHV",
      "include_colab_link": true
    },
    "kernelspec": {
      "name": "python3",
      "display_name": "Python 3"
    }
  },
  "cells": [
    {
      "cell_type": "markdown",
      "metadata": {
        "id": "view-in-github",
        "colab_type": "text"
      },
      "source": [
        "<a href=\"https://colab.research.google.com/github/Shambhavi-Gupta/Tutorial65_ones-zeros-empty-Functions/blob/main/Tutorial65_ones_zeros_empty_Functions.ipynb\" target=\"_parent\"><img src=\"https://colab.research.google.com/assets/colab-badge.svg\" alt=\"Open In Colab\"/></a>"
      ]
    },
    {
      "cell_type": "code",
      "metadata": {
        "id": "ne0I4HC-o8UB"
      },
      "source": [
        "import numpy as np\r\n",
        "#help(np.zeros)\r\n",
        "# a = np.zeros(6)\r\n",
        "# print(a)\r\n",
        "# a = np.zeros(4, dtype=\"int\")\r\n",
        "# print(a)\r\n",
        "# b = np.zeros((2,3))\r\n",
        "# print(b)\r\n",
        "# a = np.zeros([2,3])\r\n",
        "# print(a)\r\n",
        "\r\n",
        "#help(np.ones)\r\n",
        "# a = np.ones(4)\r\n",
        "# print(a)\r\n",
        "# a = np.ones((3,4))\r\n",
        "# print(a)\r\n",
        "# a = np.ones(5 , dtype=\"int\")\r\n",
        "# print(a)\r\n",
        "\r\n",
        "#help(np.empty)\r\n",
        "# a = np.empty(4)\r\n",
        "# print(a)\r\n",
        "# a = np.empty([2,3] , dtype=\"int\")\r\n",
        "# print(a)"
      ],
      "execution_count": null,
      "outputs": []
    }
  ]
}